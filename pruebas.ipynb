{
 "cells": [
  {
   "cell_type": "code",
   "execution_count": 1,
   "metadata": {
    "collapsed": false
   },
   "outputs": [
    {
     "name": "stdout",
     "output_type": "stream",
     "text": [
      "Requirement already up-to-date: jupyter in c:\\program files\\anaconda3\\lib\\site-packages\n"
     ]
    },
    {
     "name": "stderr",
     "output_type": "stream",
     "text": [
      "You are using pip version 8.1.2, however version 9.0.1 is available.\n",
      "You should consider upgrading via the 'python -m pip install --upgrade pip' command.\n"
     ]
    }
   ],
   "source": [
    "!pip install -U jupyter "
   ]
  },
  {
   "cell_type": "code",
   "execution_count": 2,
   "metadata": {
    "collapsed": false
   },
   "outputs": [
    {
     "name": "stdout",
     "output_type": "stream",
     "text": [
      "Collecting pip\n",
      "  Downloading pip-9.0.1-py2.py3-none-any.whl (1.3MB)\n",
      "Installing collected packages: pip\n",
      "  Found existing installation: pip 8.1.2\n",
      "    Uninstalling pip-8.1.2:\n"
     ]
    },
    {
     "name": "stderr",
     "output_type": "stream",
     "text": [
      "Exception:\n",
      "Traceback (most recent call last):\n",
      "  File \"C:\\Program Files\\Anaconda3\\lib\\shutil.py\", line 538, in move\n",
      "    os.rename(src, real_dst)\n",
      "PermissionError: [WinError 5] Acceso denegado: 'c:\\\\program files\\\\anaconda3\\\\lib\\\\site-packages\\\\pip' -> 'C:\\\\Users\\\\EQUIPO~1\\\\AppData\\\\Local\\\\Temp\\\\pip-gdck923r-uninstall\\\\program files\\\\anaconda3\\\\lib\\\\site-packages\\\\pip'\n",
      "\n",
      "During handling of the above exception, another exception occurred:\n",
      "\n",
      "Traceback (most recent call last):\n",
      "  File \"C:\\Program Files\\Anaconda3\\lib\\site-packages\\pip\\basecommand.py\", line 215, in main\n",
      "    status = self.run(options, args)\n",
      "  File \"C:\\Program Files\\Anaconda3\\lib\\site-packages\\pip\\commands\\install.py\", line 317, in run\n",
      "    prefix=options.prefix_path,\n",
      "  File \"C:\\Program Files\\Anaconda3\\lib\\site-packages\\pip\\req\\req_set.py\", line 736, in install\n",
      "    requirement.uninstall(auto_confirm=True)\n",
      "  File \"C:\\Program Files\\Anaconda3\\lib\\site-packages\\pip\\req\\req_install.py\", line 742, in uninstall\n",
      "    paths_to_remove.remove(auto_confirm)\n",
      "  File \"C:\\Program Files\\Anaconda3\\lib\\site-packages\\pip\\req\\req_uninstall.py\", line 115, in remove\n",
      "    renames(path, new_path)\n",
      "  File \"C:\\Program Files\\Anaconda3\\lib\\site-packages\\pip\\utils\\__init__.py\", line 267, in renames\n",
      "    shutil.move(old, new)\n",
      "  File \"C:\\Program Files\\Anaconda3\\lib\\shutil.py\", line 550, in move\n",
      "    rmtree(src)\n",
      "  File \"C:\\Program Files\\Anaconda3\\lib\\shutil.py\", line 488, in rmtree\n",
      "    return _rmtree_unsafe(path, onerror)\n",
      "  File \"C:\\Program Files\\Anaconda3\\lib\\shutil.py\", line 383, in _rmtree_unsafe\n",
      "    onerror(os.unlink, fullname, sys.exc_info())\n",
      "  File \"C:\\Program Files\\Anaconda3\\lib\\shutil.py\", line 381, in _rmtree_unsafe\n",
      "    os.unlink(fullname)\n",
      "PermissionError: [WinError 5] Acceso denegado: 'c:\\\\program files\\\\anaconda3\\\\lib\\\\site-packages\\\\pip\\\\basecommand.py'\n",
      "You are using pip version 8.1.2, however version 9.0.1 is available.\n",
      "You should consider upgrading via the 'python -m pip install --upgrade pip' command.\n"
     ]
    }
   ],
   "source": [
    "!python -m pip install --upgrade pip"
   ]
  },
  {
   "cell_type": "code",
   "execution_count": 3,
   "metadata": {
    "collapsed": false
   },
   "outputs": [
    {
     "name": "stderr",
     "output_type": "stream",
     "text": [
      "Enabling notebook extension jupyter-js-widgets/extension...\n",
      "Traceback (most recent call last):\n",
      "  File \"C:\\Program Files\\Anaconda3\\Scripts\\jupyter-nbextension-script.py\", line 5, in <module>\n",
      "    sys.exit(notebook.nbextensions.main())\n",
      "  File \"C:\\Program Files\\Anaconda3\\lib\\site-packages\\jupyter_core\\application.py\", line 267, in launch_instance\n",
      "    return super(JupyterApp, cls).launch_instance(argv=argv, **kwargs)\n",
      "  File \"C:\\Program Files\\Anaconda3\\lib\\site-packages\\traitlets\\config\\application.py\", line 653, in launch_instance\n",
      "    app.start()\n",
      "  File \"C:\\Program Files\\Anaconda3\\lib\\site-packages\\notebook\\nbextensions.py\", line 961, in start\n",
      "    super(NBExtensionApp, self).start()\n",
      "  File \"C:\\Program Files\\Anaconda3\\lib\\site-packages\\jupyter_core\\application.py\", line 256, in start\n",
      "    self.subapp.start()\n",
      "  File \"C:\\Program Files\\Anaconda3\\lib\\site-packages\\notebook\\nbextensions.py\", line 869, in start\n",
      "    self.toggle_nbextension_python(self.extra_args[0])\n",
      "  File \"C:\\Program Files\\Anaconda3\\lib\\site-packages\\notebook\\nbextensions.py\", line 845, in toggle_nbextension_python\n",
      "    logger=self.log)\n",
      "  File \"C:\\Program Files\\Anaconda3\\lib\\site-packages\\notebook\\nbextensions.py\", line 459, in enable_nbextension_python\n",
      "    logger=logger)\n",
      "  File \"C:\\Program Files\\Anaconda3\\lib\\site-packages\\notebook\\nbextensions.py\", line 380, in _set_nbextension_state_python\n",
      "    for nbext in nbexts]\n",
      "  File \"C:\\Program Files\\Anaconda3\\lib\\site-packages\\notebook\\nbextensions.py\", line 380, in <listcomp>\n",
      "    for nbext in nbexts]\n",
      "  File \"C:\\Program Files\\Anaconda3\\lib\\site-packages\\notebook\\nbextensions.py\", line 345, in _set_nbextension_state\n",
      "    cm.update(section, {\"load_extensions\": {require: state}})\n",
      "  File \"C:\\Program Files\\Anaconda3\\lib\\site-packages\\traitlets\\config\\manager.py\", line 87, in update\n",
      "    self.set(section_name, data)\n",
      "  File \"C:\\Program Files\\Anaconda3\\lib\\site-packages\\traitlets\\config\\manager.py\", line 74, in set\n",
      "    f = io.open(filename, 'w', encoding='utf-8')\n",
      "PermissionError: [Errno 13] Permission denied: 'C:\\\\Program Files\\\\Anaconda3\\\\etc\\\\jupyter\\\\nbconfig\\\\notebook.json'\n"
     ]
    }
   ],
   "source": [
    "!jupyter nbextension enable --py --sys-prefix widgetsnbextension "
   ]
  },
  {
   "cell_type": "code",
   "execution_count": 4,
   "metadata": {
    "collapsed": false
   },
   "outputs": [
    {
     "name": "stderr",
     "output_type": "stream",
     "text": [
      "\"sudo\" no se reconoce como un comando interno o externo,\n",
      "programa o archivo por lotes ejecutable.\n"
     ]
    }
   ],
   "source": [
    "!sudo pip install -U jupyter "
   ]
  },
  {
   "cell_type": "code",
   "execution_count": 5,
   "metadata": {
    "collapsed": false
   },
   "outputs": [
    {
     "name": "stdout",
     "output_type": "stream",
     "text": [
      "Collecting gmaps\n",
      "  Downloading gmaps-0.4.0.tar.gz (63kB)\n",
      "Requirement already satisfied (use --upgrade to upgrade): ipywidgets>=5.2.2 in c:\\program files\\anaconda3\\lib\\site-packages (from gmaps)\n",
      "Requirement already satisfied (use --upgrade to upgrade): traitlets>=4.3.0 in c:\\program files\\anaconda3\\lib\\site-packages (from gmaps)\n",
      "Requirement already satisfied (use --upgrade to upgrade): six in c:\\program files\\anaconda3\\lib\\site-packages (from gmaps)\n",
      "Building wheels for collected packages: gmaps\n",
      "  Running setup.py bdist_wheel for gmaps: started\n",
      "  Running setup.py bdist_wheel for gmaps: finished with status 'done'\n",
      "  Stored in directory: C:\\Users\\Equipo 02\\AppData\\Local\\pip\\Cache\\wheels\\ce\\2e\\e4\\b41e360b0cd8174229d4af8a1f2c68f5ab676843caf9b610a6\n",
      "Successfully built gmaps\n",
      "Installing collected packages: gmaps\n"
     ]
    },
    {
     "name": "stderr",
     "output_type": "stream",
     "text": [
      "Exception:\n",
      "Traceback (most recent call last):\n",
      "  File \"C:\\Program Files\\Anaconda3\\lib\\site-packages\\pip\\basecommand.py\", line 215, in main\n",
      "    status = self.run(options, args)\n",
      "  File \"C:\\Program Files\\Anaconda3\\lib\\site-packages\\pip\\commands\\install.py\", line 317, in run\n",
      "    prefix=options.prefix_path,\n",
      "  File \"C:\\Program Files\\Anaconda3\\lib\\site-packages\\pip\\req\\req_set.py\", line 742, in install\n",
      "    **kwargs\n",
      "  File \"C:\\Program Files\\Anaconda3\\lib\\site-packages\\pip\\req\\req_install.py\", line 831, in install\n",
      "    self.move_wheel_files(self.source_dir, root=root, prefix=prefix)\n",
      "  File \"C:\\Program Files\\Anaconda3\\lib\\site-packages\\pip\\req\\req_install.py\", line 1032, in move_wheel_files\n",
      "    isolated=self.isolated,\n",
      "  File \"C:\\Program Files\\Anaconda3\\lib\\site-packages\\pip\\wheel.py\", line 346, in move_wheel_files\n",
      "    clobber(source, lib_dir, True)\n",
      "  File \"C:\\Program Files\\Anaconda3\\lib\\site-packages\\pip\\wheel.py\", line 317, in clobber\n",
      "    ensure_dir(destdir)\n",
      "  File \"C:\\Program Files\\Anaconda3\\lib\\site-packages\\pip\\utils\\__init__.py\", line 83, in ensure_dir\n",
      "    os.makedirs(path)\n",
      "  File \"C:\\Program Files\\Anaconda3\\lib\\os.py\", line 241, in makedirs\n",
      "    mkdir(name, mode)\n",
      "PermissionError: [WinError 5] Acceso denegado: 'C:\\\\Program Files\\\\Anaconda3\\\\Lib\\\\site-packages\\\\gmaps'\n",
      "You are using pip version 8.1.2, however version 9.0.1 is available.\n",
      "You should consider upgrading via the 'python -m pip install --upgrade pip' command.\n"
     ]
    }
   ],
   "source": [
    "!pip install gmaps "
   ]
  },
  {
   "cell_type": "code",
   "execution_count": null,
   "metadata": {
    "collapsed": true
   },
   "outputs": [],
   "source": []
  }
 ],
 "metadata": {
  "kernelspec": {
   "display_name": "Python [conda root]",
   "language": "python",
   "name": "conda-root-py"
  },
  "language_info": {
   "codemirror_mode": {
    "name": "ipython",
    "version": 3
   },
   "file_extension": ".py",
   "mimetype": "text/x-python",
   "name": "python",
   "nbconvert_exporter": "python",
   "pygments_lexer": "ipython3",
   "version": "3.5.2"
  }
 },
 "nbformat": 4,
 "nbformat_minor": 1
}
