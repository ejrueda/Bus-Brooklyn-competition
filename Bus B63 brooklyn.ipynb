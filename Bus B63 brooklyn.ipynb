{
 "cells": [
  {
   "cell_type": "code",
   "execution_count": 109,
   "metadata": {
    "collapsed": true
   },
   "outputs": [],
   "source": [
    "import pandas as pd # data processing, CSV file I/O (e.g. pd.read_csv)\n",
    "import numpy as np\n",
    "from time import time\n",
    "import matplotlib.pyplot as plt\n",
    "%matplotlib inline"
   ]
  },
  {
   "cell_type": "code",
   "execution_count": 71,
   "metadata": {
    "collapsed": false
   },
   "outputs": [],
   "source": [
    "data=pd.read_csv(\"B63-2011-04-03_2011-05-03.csv\")"
   ]
  },
  {
   "cell_type": "code",
   "execution_count": 77,
   "metadata": {
    "collapsed": true
   },
   "outputs": [],
   "source": [
    "data_copy = data"
   ]
  },
  {
   "cell_type": "code",
   "execution_count": 228,
   "metadata": {
    "collapsed": false
   },
   "outputs": [
    {
     "data": {
      "text/html": [
       "<div>\n",
       "<table border=\"1\" class=\"dataframe\">\n",
       "  <thead>\n",
       "    <tr style=\"text-align: right;\">\n",
       "      <th></th>\n",
       "      <th>vehicle_id</th>\n",
       "      <th>timestamp</th>\n",
       "      <th>latitude</th>\n",
       "      <th>longitude</th>\n",
       "      <th>phase</th>\n",
       "      <th>trip_id</th>\n",
       "      <th>direction_id</th>\n",
       "      <th>trip_headsign</th>\n",
       "      <th>shape_dist_traveled</th>\n",
       "      <th>stop_id</th>\n",
       "      <th>stop_sequence</th>\n",
       "      <th>dist_from_stop</th>\n",
       "    </tr>\n",
       "  </thead>\n",
       "  <tbody>\n",
       "    <tr>\n",
       "      <th>0</th>\n",
       "      <td>7573</td>\n",
       "      <td>2011-04-16 01:02:41</td>\n",
       "      <td>40.612648</td>\n",
       "      <td>-74.033723</td>\n",
       "      <td>IN_PROGRESS</td>\n",
       "      <td>20110403AD_004000_B63_0089_B63_101</td>\n",
       "      <td>0</td>\n",
       "      <td>B63 PIER 6 BKLYN BRIDGE PK via 5 AV</td>\n",
       "      <td>299.381043</td>\n",
       "      <td>305334</td>\n",
       "      <td>2</td>\n",
       "      <td>39.875024</td>\n",
       "    </tr>\n",
       "    <tr>\n",
       "      <th>1</th>\n",
       "      <td>7573</td>\n",
       "      <td>2011-04-16 01:03:16</td>\n",
       "      <td>40.613071</td>\n",
       "      <td>-74.033353</td>\n",
       "      <td>IN_PROGRESS</td>\n",
       "      <td>20110403AD_004000_B63_0089_B63_101</td>\n",
       "      <td>0</td>\n",
       "      <td>B63 PIER 6 BKLYN BRIDGE PK via 5 AV</td>\n",
       "      <td>357.314663</td>\n",
       "      <td>305335</td>\n",
       "      <td>3</td>\n",
       "      <td>158.012705</td>\n",
       "    </tr>\n",
       "    <tr>\n",
       "      <th>2</th>\n",
       "      <td>7573</td>\n",
       "      <td>2011-04-16 01:03:50</td>\n",
       "      <td>40.614715</td>\n",
       "      <td>-74.032055</td>\n",
       "      <td>IN_PROGRESS</td>\n",
       "      <td>20110403AD_004000_B63_0089_B63_101</td>\n",
       "      <td>0</td>\n",
       "      <td>B63 PIER 6 BKLYN BRIDGE PK via 5 AV</td>\n",
       "      <td>570.261417</td>\n",
       "      <td>308130</td>\n",
       "      <td>4</td>\n",
       "      <td>173.253540</td>\n",
       "    </tr>\n",
       "    <tr>\n",
       "      <th>3</th>\n",
       "      <td>7573</td>\n",
       "      <td>2011-04-16 01:04:09</td>\n",
       "      <td>40.617474</td>\n",
       "      <td>-74.030490</td>\n",
       "      <td>IN_PROGRESS</td>\n",
       "      <td>20110403AD_004000_B63_0089_B63_101</td>\n",
       "      <td>0</td>\n",
       "      <td>B63 PIER 6 BKLYN BRIDGE PK via 5 AV</td>\n",
       "      <td>898.529204</td>\n",
       "      <td>305338</td>\n",
       "      <td>5</td>\n",
       "      <td>130.538314</td>\n",
       "    </tr>\n",
       "    <tr>\n",
       "      <th>4</th>\n",
       "      <td>7573</td>\n",
       "      <td>2011-04-16 01:04:40</td>\n",
       "      <td>40.621249</td>\n",
       "      <td>-74.028916</td>\n",
       "      <td>IN_PROGRESS</td>\n",
       "      <td>20110403AD_004000_B63_0089_B63_101</td>\n",
       "      <td>0</td>\n",
       "      <td>B63 PIER 6 BKLYN BRIDGE PK via 5 AV</td>\n",
       "      <td>1322.867866</td>\n",
       "      <td>305341</td>\n",
       "      <td>7</td>\n",
       "      <td>189.051827</td>\n",
       "    </tr>\n",
       "  </tbody>\n",
       "</table>\n",
       "</div>"
      ],
      "text/plain": [
       "   vehicle_id            timestamp   latitude  longitude        phase  \\\n",
       "0        7573  2011-04-16 01:02:41  40.612648 -74.033723  IN_PROGRESS   \n",
       "1        7573  2011-04-16 01:03:16  40.613071 -74.033353  IN_PROGRESS   \n",
       "2        7573  2011-04-16 01:03:50  40.614715 -74.032055  IN_PROGRESS   \n",
       "3        7573  2011-04-16 01:04:09  40.617474 -74.030490  IN_PROGRESS   \n",
       "4        7573  2011-04-16 01:04:40  40.621249 -74.028916  IN_PROGRESS   \n",
       "\n",
       "                              trip_id  direction_id  \\\n",
       "0  20110403AD_004000_B63_0089_B63_101             0   \n",
       "1  20110403AD_004000_B63_0089_B63_101             0   \n",
       "2  20110403AD_004000_B63_0089_B63_101             0   \n",
       "3  20110403AD_004000_B63_0089_B63_101             0   \n",
       "4  20110403AD_004000_B63_0089_B63_101             0   \n",
       "\n",
       "                         trip_headsign  shape_dist_traveled  stop_id  \\\n",
       "0  B63 PIER 6 BKLYN BRIDGE PK via 5 AV           299.381043   305334   \n",
       "1  B63 PIER 6 BKLYN BRIDGE PK via 5 AV           357.314663   305335   \n",
       "2  B63 PIER 6 BKLYN BRIDGE PK via 5 AV           570.261417   308130   \n",
       "3  B63 PIER 6 BKLYN BRIDGE PK via 5 AV           898.529204   305338   \n",
       "4  B63 PIER 6 BKLYN BRIDGE PK via 5 AV          1322.867866   305341   \n",
       "\n",
       "   stop_sequence  dist_from_stop  \n",
       "0              2       39.875024  \n",
       "1              3      158.012705  \n",
       "2              4      173.253540  \n",
       "3              5      130.538314  \n",
       "4              7      189.051827  "
      ]
     },
     "execution_count": 228,
     "metadata": {},
     "output_type": "execute_result"
    }
   ],
   "source": [
    "data.head()"
   ]
  },
  {
   "cell_type": "code",
   "execution_count": 84,
   "metadata": {
    "collapsed": false
   },
   "outputs": [],
   "source": [
    "data_drop = data_copy.drop([\"trip_id\",\"timestamp\",\"phase\", \"trip_headsign\"], axis=1)\n",
    "data_drop = data_drop.sort_values([\"vehicle_id\"])"
   ]
  },
  {
   "cell_type": "code",
   "execution_count": 38,
   "metadata": {
    "collapsed": false
   },
   "outputs": [
    {
     "data": {
      "text/plain": [
       "30"
      ]
     },
     "execution_count": 38,
     "metadata": {},
     "output_type": "execute_result"
    }
   ],
   "source": [
    "# hay 30 buses\n",
    "len(np.unique(data.vehicle_id))"
   ]
  },
  {
   "cell_type": "code",
   "execution_count": 39,
   "metadata": {
    "collapsed": false
   },
   "outputs": [
    {
     "data": {
      "text/html": [
       "<div>\n",
       "<table border=\"1\" class=\"dataframe\">\n",
       "  <thead>\n",
       "    <tr style=\"text-align: right;\">\n",
       "      <th></th>\n",
       "      <th>vehicle_id</th>\n",
       "      <th>timestamp</th>\n",
       "      <th>latitude</th>\n",
       "      <th>longitude</th>\n",
       "      <th>phase</th>\n",
       "      <th>direction_id</th>\n",
       "      <th>shape_dist_traveled</th>\n",
       "      <th>stop_id</th>\n",
       "      <th>stop_sequence</th>\n",
       "      <th>dist_from_stop</th>\n",
       "    </tr>\n",
       "  </thead>\n",
       "  <tbody>\n",
       "    <tr>\n",
       "      <th>0</th>\n",
       "      <td>7573</td>\n",
       "      <td>2011-04-16 01:02:41</td>\n",
       "      <td>40.612648</td>\n",
       "      <td>-74.033723</td>\n",
       "      <td>IN_PROGRESS</td>\n",
       "      <td>0</td>\n",
       "      <td>299.381043</td>\n",
       "      <td>305334</td>\n",
       "      <td>2</td>\n",
       "      <td>39.875024</td>\n",
       "    </tr>\n",
       "    <tr>\n",
       "      <th>1</th>\n",
       "      <td>7573</td>\n",
       "      <td>2011-04-16 01:03:16</td>\n",
       "      <td>40.613071</td>\n",
       "      <td>-74.033353</td>\n",
       "      <td>IN_PROGRESS</td>\n",
       "      <td>0</td>\n",
       "      <td>357.314663</td>\n",
       "      <td>305335</td>\n",
       "      <td>3</td>\n",
       "      <td>158.012705</td>\n",
       "    </tr>\n",
       "    <tr>\n",
       "      <th>2</th>\n",
       "      <td>7573</td>\n",
       "      <td>2011-04-16 01:03:50</td>\n",
       "      <td>40.614715</td>\n",
       "      <td>-74.032055</td>\n",
       "      <td>IN_PROGRESS</td>\n",
       "      <td>0</td>\n",
       "      <td>570.261417</td>\n",
       "      <td>308130</td>\n",
       "      <td>4</td>\n",
       "      <td>173.253540</td>\n",
       "    </tr>\n",
       "    <tr>\n",
       "      <th>3</th>\n",
       "      <td>7573</td>\n",
       "      <td>2011-04-16 01:04:09</td>\n",
       "      <td>40.617474</td>\n",
       "      <td>-74.030490</td>\n",
       "      <td>IN_PROGRESS</td>\n",
       "      <td>0</td>\n",
       "      <td>898.529204</td>\n",
       "      <td>305338</td>\n",
       "      <td>5</td>\n",
       "      <td>130.538314</td>\n",
       "    </tr>\n",
       "    <tr>\n",
       "      <th>4</th>\n",
       "      <td>7573</td>\n",
       "      <td>2011-04-16 01:04:40</td>\n",
       "      <td>40.621249</td>\n",
       "      <td>-74.028916</td>\n",
       "      <td>IN_PROGRESS</td>\n",
       "      <td>0</td>\n",
       "      <td>1322.867866</td>\n",
       "      <td>305341</td>\n",
       "      <td>7</td>\n",
       "      <td>189.051827</td>\n",
       "    </tr>\n",
       "  </tbody>\n",
       "</table>\n",
       "</div>"
      ],
      "text/plain": [
       "   vehicle_id            timestamp   latitude  longitude        phase  \\\n",
       "0        7573  2011-04-16 01:02:41  40.612648 -74.033723  IN_PROGRESS   \n",
       "1        7573  2011-04-16 01:03:16  40.613071 -74.033353  IN_PROGRESS   \n",
       "2        7573  2011-04-16 01:03:50  40.614715 -74.032055  IN_PROGRESS   \n",
       "3        7573  2011-04-16 01:04:09  40.617474 -74.030490  IN_PROGRESS   \n",
       "4        7573  2011-04-16 01:04:40  40.621249 -74.028916  IN_PROGRESS   \n",
       "\n",
       "   direction_id  shape_dist_traveled  stop_id  stop_sequence  dist_from_stop  \n",
       "0             0           299.381043   305334              2       39.875024  \n",
       "1             0           357.314663   305335              3      158.012705  \n",
       "2             0           570.261417   308130              4      173.253540  \n",
       "3             0           898.529204   305338              5      130.538314  \n",
       "4             0          1322.867866   305341              7      189.051827  "
      ]
     },
     "execution_count": 39,
     "metadata": {},
     "output_type": "execute_result"
    }
   ],
   "source": [
    "#data_drop = data_drop.sort_values([\"vehicle_id\", \"timestamp\"])\n",
    "#X = np.array(data_drop)\n",
    "data_drop.head()"
   ]
  },
  {
   "cell_type": "code",
   "execution_count": 26,
   "metadata": {
    "collapsed": false
   },
   "outputs": [
    {
     "data": {
      "text/plain": [
       "44.54245555273155"
      ]
     },
     "execution_count": 26,
     "metadata": {},
     "output_type": "execute_result"
    }
   ],
   "source": [
    "restas_distancias[2]"
   ]
  },
  {
   "cell_type": "code",
   "execution_count": 29,
   "metadata": {
    "collapsed": false
   },
   "outputs": [
    {
     "data": {
      "text/plain": [
       "(-12000.76778728651, 11985.52552930461, 840940)"
      ]
     },
     "execution_count": 29,
     "metadata": {},
     "output_type": "execute_result"
    }
   ],
   "source": [
    "np.min(restas_distancias) , np.max(restas_distancias), len(restas_distancias)"
   ]
  },
  {
   "cell_type": "code",
   "execution_count": null,
   "metadata": {
    "collapsed": true
   },
   "outputs": [],
   "source": []
  },
  {
   "cell_type": "code",
   "execution_count": null,
   "metadata": {
    "collapsed": true
   },
   "outputs": [],
   "source": []
  },
  {
   "cell_type": "code",
   "execution_count": 7,
   "metadata": {
    "collapsed": false
   },
   "outputs": [
    {
     "data": {
      "text/html": [
       "<div>\n",
       "<table border=\"1\" class=\"dataframe\">\n",
       "  <thead>\n",
       "    <tr style=\"text-align: right;\">\n",
       "      <th></th>\n",
       "      <th>vehicle_id</th>\n",
       "      <th>timestamp</th>\n",
       "      <th>latitude</th>\n",
       "      <th>longitude</th>\n",
       "      <th>phase</th>\n",
       "      <th>direction_id</th>\n",
       "      <th>shape_dist_traveled</th>\n",
       "      <th>stop_id</th>\n",
       "      <th>stop_sequence</th>\n",
       "      <th>dist_from_stop</th>\n",
       "    </tr>\n",
       "  </thead>\n",
       "  <tbody>\n",
       "    <tr>\n",
       "      <th>107226</th>\n",
       "      <td>7560</td>\n",
       "      <td>2011-04-03 00:00:06</td>\n",
       "      <td>40.629310</td>\n",
       "      <td>-74.022698</td>\n",
       "      <td>IN_PROGRESS</td>\n",
       "      <td>1</td>\n",
       "      <td>9380.958359</td>\n",
       "      <td>308421</td>\n",
       "      <td>47</td>\n",
       "      <td>275.386484</td>\n",
       "    </tr>\n",
       "    <tr>\n",
       "      <th>107227</th>\n",
       "      <td>7560</td>\n",
       "      <td>2011-04-03 00:00:36</td>\n",
       "      <td>40.627077</td>\n",
       "      <td>-74.023625</td>\n",
       "      <td>IN_PROGRESS</td>\n",
       "      <td>1</td>\n",
       "      <td>9642.575518</td>\n",
       "      <td>308421</td>\n",
       "      <td>47</td>\n",
       "      <td>13.769324</td>\n",
       "    </tr>\n",
       "    <tr>\n",
       "      <th>107228</th>\n",
       "      <td>7560</td>\n",
       "      <td>2011-04-03 00:01:06</td>\n",
       "      <td>40.626679</td>\n",
       "      <td>-74.023769</td>\n",
       "      <td>IN_PROGRESS</td>\n",
       "      <td>1</td>\n",
       "      <td>9687.117974</td>\n",
       "      <td>305458</td>\n",
       "      <td>48</td>\n",
       "      <td>224.643859</td>\n",
       "    </tr>\n",
       "    <tr>\n",
       "      <th>107229</th>\n",
       "      <td>7560</td>\n",
       "      <td>2011-04-03 00:01:36</td>\n",
       "      <td>40.626426</td>\n",
       "      <td>-74.023864</td>\n",
       "      <td>IN_PROGRESS</td>\n",
       "      <td>1</td>\n",
       "      <td>9717.891105</td>\n",
       "      <td>305458</td>\n",
       "      <td>48</td>\n",
       "      <td>193.870728</td>\n",
       "    </tr>\n",
       "    <tr>\n",
       "      <th>107230</th>\n",
       "      <td>7560</td>\n",
       "      <td>2011-04-03 00:02:05</td>\n",
       "      <td>40.624844</td>\n",
       "      <td>-74.024552</td>\n",
       "      <td>IN_PROGRESS</td>\n",
       "      <td>1</td>\n",
       "      <td>9902.529893</td>\n",
       "      <td>305458</td>\n",
       "      <td>48</td>\n",
       "      <td>9.231939</td>\n",
       "    </tr>\n",
       "  </tbody>\n",
       "</table>\n",
       "</div>"
      ],
      "text/plain": [
       "        vehicle_id            timestamp   latitude  longitude        phase  \\\n",
       "107226        7560  2011-04-03 00:00:06  40.629310 -74.022698  IN_PROGRESS   \n",
       "107227        7560  2011-04-03 00:00:36  40.627077 -74.023625  IN_PROGRESS   \n",
       "107228        7560  2011-04-03 00:01:06  40.626679 -74.023769  IN_PROGRESS   \n",
       "107229        7560  2011-04-03 00:01:36  40.626426 -74.023864  IN_PROGRESS   \n",
       "107230        7560  2011-04-03 00:02:05  40.624844 -74.024552  IN_PROGRESS   \n",
       "\n",
       "        direction_id  shape_dist_traveled  stop_id  stop_sequence  \\\n",
       "107226             1          9380.958359   308421             47   \n",
       "107227             1          9642.575518   308421             47   \n",
       "107228             1          9687.117974   305458             48   \n",
       "107229             1          9717.891105   305458             48   \n",
       "107230             1          9902.529893   305458             48   \n",
       "\n",
       "        dist_from_stop  \n",
       "107226      275.386484  \n",
       "107227       13.769324  \n",
       "107228      224.643859  \n",
       "107229      193.870728  \n",
       "107230        9.231939  "
      ]
     },
     "execution_count": 7,
     "metadata": {},
     "output_type": "execute_result"
    }
   ],
   "source": [
    "data_drop.head()"
   ]
  },
  {
   "cell_type": "code",
   "execution_count": 85,
   "metadata": {
    "collapsed": true
   },
   "outputs": [],
   "source": [
    "X = np.array(data_drop)"
   ]
  },
  {
   "cell_type": "code",
   "execution_count": 86,
   "metadata": {
    "collapsed": false
   },
   "outputs": [
    {
     "name": "stderr",
     "output_type": "stream",
     "text": [
      "/home/edwin/anaconda3/lib/python3.5/site-packages/ipykernel/__main__.py:2: VisibleDeprecationWarning: using a non-integer number instead of an integer will result in an error in the future\n",
      "  from ipykernel import kernelapp as app\n",
      "/home/edwin/anaconda3/lib/python3.5/site-packages/ipykernel/__main__.py:3: VisibleDeprecationWarning: using a non-integer number instead of an integer will result in an error in the future\n",
      "  app.launch_new_instance()\n",
      "/home/edwin/anaconda3/lib/python3.5/site-packages/ipykernel/__main__.py:5: VisibleDeprecationWarning: using a non-integer number instead of an integer will result in an error in the future\n",
      "/home/edwin/anaconda3/lib/python3.5/site-packages/ipykernel/__main__.py:6: VisibleDeprecationWarning: using a non-integer number instead of an integer will result in an error in the future\n"
     ]
    },
    {
     "data": {
      "text/plain": [
       "((588658, 7), (588658,), (252282, 7), (252282,))"
      ]
     },
     "execution_count": 86,
     "metadata": {},
     "output_type": "execute_result"
    }
   ],
   "source": [
    "porcent = X.shape[0]*0.70\n",
    "x_train = X[:porcent,:-1]\n",
    "y_train = X[:porcent,X.shape[1]-1]\n",
    "\n",
    "x_test = X[porcent:,:-1]\n",
    "y_test = X[porcent:,X.shape[1]-1 ]\n",
    "\n",
    "x_train.shape ,y_train.shape, x_test.shape, y_test.shape"
   ]
  },
  {
   "cell_type": "code",
   "execution_count": 90,
   "metadata": {
    "collapsed": false
   },
   "outputs": [
    {
     "name": "stdout",
     "output_type": "stream",
     "text": [
      "socre en train =  0.410991551131\n",
      "score en test =  0.36662848478\n"
     ]
    }
   ],
   "source": [
    "#Entrenando a lo tartaro\n",
    "from sklearn.linear_model import LinearRegression\n",
    "\n",
    "lr = LinearRegression()\n",
    "lr.fit(x_train, y_train)\n",
    "print(\"socre en train = \",lr.score(x_train, y_train))\n",
    "print(\"score en test = \", lr.score(x_test, y_test))"
   ]
  },
  {
   "cell_type": "code",
   "execution_count": 92,
   "metadata": {
    "collapsed": false
   },
   "outputs": [],
   "source": [
    "data_copy_2 = data\n",
    "data_drop_2 = data_copy_2.drop([\"trip_id\",\"timestamp\", \"trip_headsign\"], axis=1)\n",
    "data_drop_2 = data_drop_2.sort_values([\"vehicle_id\"])"
   ]
  },
  {
   "cell_type": "code",
   "execution_count": 94,
   "metadata": {
    "collapsed": false
   },
   "outputs": [
    {
     "data": {
      "text/html": [
       "<div>\n",
       "<table border=\"1\" class=\"dataframe\">\n",
       "  <thead>\n",
       "    <tr style=\"text-align: right;\">\n",
       "      <th></th>\n",
       "      <th>vehicle_id</th>\n",
       "      <th>latitude</th>\n",
       "      <th>longitude</th>\n",
       "      <th>phase</th>\n",
       "      <th>direction_id</th>\n",
       "      <th>shape_dist_traveled</th>\n",
       "      <th>stop_id</th>\n",
       "      <th>stop_sequence</th>\n",
       "      <th>dist_from_stop</th>\n",
       "    </tr>\n",
       "  </thead>\n",
       "  <tbody>\n",
       "    <tr>\n",
       "      <th>453149</th>\n",
       "      <td>7560</td>\n",
       "      <td>40.682987</td>\n",
       "      <td>-73.976740</td>\n",
       "      <td>IN_PROGRESS</td>\n",
       "      <td>1</td>\n",
       "      <td>2175.706279</td>\n",
       "      <td>305413</td>\n",
       "      <td>13</td>\n",
       "      <td>149.149602</td>\n",
       "    </tr>\n",
       "    <tr>\n",
       "      <th>329965</th>\n",
       "      <td>7560</td>\n",
       "      <td>40.656588</td>\n",
       "      <td>-73.998388</td>\n",
       "      <td>IN_PROGRESS</td>\n",
       "      <td>0</td>\n",
       "      <td>6093.469048</td>\n",
       "      <td>305367</td>\n",
       "      <td>28</td>\n",
       "      <td>3.122355</td>\n",
       "    </tr>\n",
       "    <tr>\n",
       "      <th>329964</th>\n",
       "      <td>7560</td>\n",
       "      <td>40.654581</td>\n",
       "      <td>-74.000482</td>\n",
       "      <td>IN_PROGRESS</td>\n",
       "      <td>0</td>\n",
       "      <td>5809.334700</td>\n",
       "      <td>305367</td>\n",
       "      <td>28</td>\n",
       "      <td>287.256703</td>\n",
       "    </tr>\n",
       "    <tr>\n",
       "      <th>329963</th>\n",
       "      <td>7560</td>\n",
       "      <td>40.654476</td>\n",
       "      <td>-74.000584</td>\n",
       "      <td>IN_PROGRESS</td>\n",
       "      <td>0</td>\n",
       "      <td>5796.845278</td>\n",
       "      <td>305367</td>\n",
       "      <td>28</td>\n",
       "      <td>299.746125</td>\n",
       "    </tr>\n",
       "    <tr>\n",
       "      <th>329962</th>\n",
       "      <td>7560</td>\n",
       "      <td>40.654093</td>\n",
       "      <td>-74.000994</td>\n",
       "      <td>IN_PROGRESS</td>\n",
       "      <td>0</td>\n",
       "      <td>5741.198010</td>\n",
       "      <td>305365</td>\n",
       "      <td>27</td>\n",
       "      <td>36.913136</td>\n",
       "    </tr>\n",
       "  </tbody>\n",
       "</table>\n",
       "</div>"
      ],
      "text/plain": [
       "        vehicle_id   latitude  longitude        phase  direction_id  \\\n",
       "453149        7560  40.682987 -73.976740  IN_PROGRESS             1   \n",
       "329965        7560  40.656588 -73.998388  IN_PROGRESS             0   \n",
       "329964        7560  40.654581 -74.000482  IN_PROGRESS             0   \n",
       "329963        7560  40.654476 -74.000584  IN_PROGRESS             0   \n",
       "329962        7560  40.654093 -74.000994  IN_PROGRESS             0   \n",
       "\n",
       "        shape_dist_traveled  stop_id  stop_sequence  dist_from_stop  \n",
       "453149          2175.706279   305413             13      149.149602  \n",
       "329965          6093.469048   305367             28        3.122355  \n",
       "329964          5809.334700   305367             28      287.256703  \n",
       "329963          5796.845278   305367             28      299.746125  \n",
       "329962          5741.198010   305365             27       36.913136  "
      ]
     },
     "execution_count": 94,
     "metadata": {},
     "output_type": "execute_result"
    }
   ],
   "source": [
    "data_drop_2.head()"
   ]
  },
  {
   "cell_type": "code",
   "execution_count": 93,
   "metadata": {
    "collapsed": true
   },
   "outputs": [],
   "source": [
    "def trueque (datas):\n",
    "    \n",
    "    X = np.array(datas)\n",
    "    #cambiar las phase's por ceros y uno\n",
    "    # por el 4 ponga el número de columna donde está lo de phase\n",
    "    for i in range(X.shape[0]):\n",
    "        if X[i,3] == \"IN_PROGRESS\":\n",
    "            X[i,3] =1 \n",
    "        else:\n",
    "            X[i,3] =0\n",
    "\n",
    "\n",
    "    #Aqui lo mismo, por el 6 ponga el número de la columna de shape_dist_traveled\n",
    "    restas_distancias =[]\n",
    "    for i in range(X.shape[0]):\n",
    "        if i==0:\n",
    "            restas_distancias.append(int(X[i,5]))\n",
    "        else:\n",
    "            #Loca aca por year ponga el número de esa columna, lo mismo con minute\n",
    "            if np.sum(abs(X[i, 11:16] - X[i-1, 11:16])) <=50 :\n",
    "                restas_distancias.append(int(X[i,5]-X[i-1,5]))\n",
    "            else: \n",
    "                restas_distancias.append(int(X[i,5]))\n",
    "    X= np.concatenate((X,np.array([restas_distancias]).T),axis=1)\n",
    "    \n",
    "    return X"
   ]
  },
  {
   "cell_type": "code",
   "execution_count": 96,
   "metadata": {
    "collapsed": false
   },
   "outputs": [],
   "source": [
    "X_1 = np.array(data_drop_2)\n",
    "y = X_1[:,8]\n",
    "X_1 = np.delete(X_1,8,1)\n",
    "X_1 = trueque(X_1)"
   ]
  },
  {
   "cell_type": "code",
   "execution_count": 101,
   "metadata": {
    "collapsed": false
   },
   "outputs": [
    {
     "data": {
      "text/plain": [
       "((840940,), (840940, 9))"
      ]
     },
     "execution_count": 101,
     "metadata": {},
     "output_type": "execute_result"
    }
   ],
   "source": [
    "y.shape, X_1.shape"
   ]
  },
  {
   "cell_type": "code",
   "execution_count": 102,
   "metadata": {
    "collapsed": false
   },
   "outputs": [
    {
     "name": "stderr",
     "output_type": "stream",
     "text": [
      "/home/edwin/anaconda3/lib/python3.5/site-packages/ipykernel/__main__.py:2: VisibleDeprecationWarning: using a non-integer number instead of an integer will result in an error in the future\n",
      "  from ipykernel import kernelapp as app\n",
      "/home/edwin/anaconda3/lib/python3.5/site-packages/ipykernel/__main__.py:3: VisibleDeprecationWarning: using a non-integer number instead of an integer will result in an error in the future\n",
      "  app.launch_new_instance()\n",
      "/home/edwin/anaconda3/lib/python3.5/site-packages/ipykernel/__main__.py:5: VisibleDeprecationWarning: using a non-integer number instead of an integer will result in an error in the future\n",
      "/home/edwin/anaconda3/lib/python3.5/site-packages/ipykernel/__main__.py:6: VisibleDeprecationWarning: using a non-integer number instead of an integer will result in an error in the future\n"
     ]
    },
    {
     "data": {
      "text/plain": [
       "((588658, 9), (588658,), (252282, 9), (252282,))"
      ]
     },
     "execution_count": 102,
     "metadata": {},
     "output_type": "execute_result"
    }
   ],
   "source": [
    "porcent = X_1.shape[0]*0.70\n",
    "x_train = X_1[:porcent,:]\n",
    "y_train = y[:porcent]\n",
    "\n",
    "x_test = X_1[porcent:,:]\n",
    "y_test = y[porcent:]\n",
    "\n",
    "x_train.shape ,y_train.shape, x_test.shape, y_test.shape"
   ]
  },
  {
   "cell_type": "code",
   "execution_count": 111,
   "metadata": {
    "collapsed": false
   },
   "outputs": [
    {
     "name": "stdout",
     "output_type": "stream",
     "text": [
      "score en train =  0.413731572305\n",
      "score en test =  0.369486959868\n"
     ]
    }
   ],
   "source": [
    "#Entrenando añadiendo\n",
    "from sklearn.linear_model import LinearRegression\n",
    "\n",
    "lr = LinearRegression()\n",
    "lr.fit(x_train, y_train)\n",
    "print(\"score en train = \",lr.score(x_train, y_train))\n",
    "print(\"score en test = \", lr.score(x_test, y_test))"
   ]
  },
  {
   "cell_type": "code",
   "execution_count": 113,
   "metadata": {
    "collapsed": false
   },
   "outputs": [
    {
     "name": "stdout",
     "output_type": "stream",
     "text": [
      "score en train =  0.999908422618\n",
      "score en test =  0.999058041438\n"
     ]
    }
   ],
   "source": [
    "from sklearn.ensemble import RandomForestRegressor\n",
    "\n",
    "t_i = time()\n",
    "rf = RandomForestRegressor()\n",
    "rf.fit(x_train ,y_train)\n",
    "t_f = time()\n",
    "print(\"score en train = \",rf.score(x_train, y_train))\n",
    "print(\"score en test = \", rf.score(x_test, y_test))"
   ]
  },
  {
   "cell_type": "code",
   "execution_count": 108,
   "metadata": {
    "collapsed": false
   },
   "outputs": [
    {
     "data": {
      "text/plain": [
       "array([ 149.056642  ,    3.12235547,  287.25670344, ...,   73.73475351,\n",
       "        232.12131511,   41.05875108])"
      ]
     },
     "execution_count": 108,
     "metadata": {},
     "output_type": "execute_result"
    }
   ],
   "source": [
    "rf.predict(x_train)"
   ]
  },
  {
   "cell_type": "code",
   "execution_count": null,
   "metadata": {
    "collapsed": true
   },
   "outputs": [],
   "source": []
  }
 ],
 "metadata": {
  "anaconda-cloud": {},
  "kernelspec": {
   "display_name": "Python 3",
   "language": "python",
   "name": "python3"
  },
  "language_info": {
   "codemirror_mode": {
    "name": "ipython",
    "version": 3
   },
   "file_extension": ".py",
   "mimetype": "text/x-python",
   "name": "python",
   "nbconvert_exporter": "python",
   "pygments_lexer": "ipython3",
   "version": "3.6.0"
  }
 },
 "nbformat": 4,
 "nbformat_minor": 1
}
